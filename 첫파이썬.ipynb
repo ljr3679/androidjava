{
  "nbformat": 4,
  "nbformat_minor": 0,
  "metadata": {
    "colab": {
      "name": "첫파이썬.ipynb",
      "provenance": [],
      "collapsed_sections": [],
      "authorship_tag": "ABX9TyOt8dU+Q9733+CaWVd+ggEN",
      "include_colab_link": true
    },
    "kernelspec": {
      "name": "python3",
      "display_name": "Python 3"
    }
  },
  "cells": [
    {
      "cell_type": "markdown",
      "metadata": {
        "id": "view-in-github",
        "colab_type": "text"
      },
      "source": [
        "<a href=\"https://colab.research.google.com/github/ljr3679/androidjava/blob/master/%EC%B2%AB%ED%8C%8C%EC%9D%B4%EC%8D%AC.ipynb\" target=\"_parent\"><img src=\"https://colab.research.google.com/assets/colab-badge.svg\" alt=\"Open In Colab\"/></a>"
      ]
    },
    {
      "cell_type": "code",
      "metadata": {
        "colab": {
          "base_uri": "https://localhost:8080/"
        },
        "id": "V8omLygWVPQh",
        "outputId": "636f0ccb-53ae-481a-b082-80eec41d1641"
      },
      "source": [
        "print(\"환영합니다.\");\r\n",
        "name = input(\"이름을 입력하세요.\")\r\n",
        "print(\"당신의 이름은?\" + name)"
      ],
      "execution_count": 2,
      "outputs": [
        {
          "output_type": "stream",
          "text": [
            "환영합니다.\n",
            "이름을 입력하세요.dlwhdfbf\n",
            "당신의 이름은?dlwhdfbf\n"
          ],
          "name": "stdout"
        }
      ]
    }
  ]
}